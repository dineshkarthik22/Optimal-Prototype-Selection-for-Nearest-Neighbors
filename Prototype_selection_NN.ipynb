{
  "cells": [
    {
      "cell_type": "code",
      "execution_count": 2,
      "metadata": {
        "id": "pD-5QC6WRXHo"
      },
      "outputs": [],
      "source": [
        "import pandas as pd\n",
        "import numpy as np\n",
        "from sklearn.neighbors import KNeighborsClassifier\n",
        "from sklearn.metrics import accuracy_score, precision_score, recall_score, f1_score, pairwise_distances_argmin_min\n",
        "from sklearn.utils import resample\n",
        "from mlxtend.plotting import plot_decision_regions\n",
        "import matplotlib.pyplot as plt\n",
        "from sklearn.decomposition import PCA\n",
        "from sklearn.neighbors import KDTree\n",
        "import torch\n",
        "import matplotlib.pyplot as plt\n",
        "import torchvision\n",
        "import torchvision.datasets as datasets\n",
        "from sklearn.cluster import KMeans\n",
        "import time"
      ]
    },
    {
      "cell_type": "code",
      "execution_count": 3,
      "metadata": {
        "id": "dsgvehc7c9dX"
      },
      "outputs": [],
      "source": [
        "import warnings\n",
        "warnings.filterwarnings(\"ignore\")"
      ]
    },
    {
      "cell_type": "code",
      "execution_count": 4,
      "metadata": {
        "colab": {
          "base_uri": "https://localhost:8080/",
          "height": 0
        },
        "id": "7Fl0WpUYTeJh",
        "outputId": "cf6a2e96-6d43-4cb4-f177-46b3bdb52115"
      },
      "outputs": [
        {
          "output_type": "stream",
          "name": "stdout",
          "text": [
            "2.1.0+cu121\n"
          ]
        }
      ],
      "source": [
        "print(torch.__version__)"
      ]
    },
    {
      "cell_type": "code",
      "execution_count": 5,
      "metadata": {
        "id": "XUIiG0UMToad",
        "colab": {
          "base_uri": "https://localhost:8080/",
          "height": 0
        },
        "outputId": "de43273a-e1ce-4747-9bf4-77a05710547b"
      },
      "outputs": [
        {
          "output_type": "stream",
          "name": "stdout",
          "text": [
            "Downloading http://yann.lecun.com/exdb/mnist/train-images-idx3-ubyte.gz\n",
            "Downloading http://yann.lecun.com/exdb/mnist/train-images-idx3-ubyte.gz to ./data/MNIST/raw/train-images-idx3-ubyte.gz\n"
          ]
        },
        {
          "output_type": "stream",
          "name": "stderr",
          "text": [
            "100%|██████████| 9912422/9912422 [00:00<00:00, 96111478.73it/s]\n"
          ]
        },
        {
          "output_type": "stream",
          "name": "stdout",
          "text": [
            "Extracting ./data/MNIST/raw/train-images-idx3-ubyte.gz to ./data/MNIST/raw\n",
            "\n",
            "Downloading http://yann.lecun.com/exdb/mnist/train-labels-idx1-ubyte.gz\n",
            "Downloading http://yann.lecun.com/exdb/mnist/train-labels-idx1-ubyte.gz to ./data/MNIST/raw/train-labels-idx1-ubyte.gz\n"
          ]
        },
        {
          "output_type": "stream",
          "name": "stderr",
          "text": [
            "100%|██████████| 28881/28881 [00:00<00:00, 57766186.85it/s]"
          ]
        },
        {
          "output_type": "stream",
          "name": "stdout",
          "text": [
            "Extracting ./data/MNIST/raw/train-labels-idx1-ubyte.gz to ./data/MNIST/raw\n",
            "\n",
            "Downloading http://yann.lecun.com/exdb/mnist/t10k-images-idx3-ubyte.gz\n",
            "Downloading http://yann.lecun.com/exdb/mnist/t10k-images-idx3-ubyte.gz to ./data/MNIST/raw/t10k-images-idx3-ubyte.gz\n"
          ]
        },
        {
          "output_type": "stream",
          "name": "stderr",
          "text": [
            "\n",
            "100%|██████████| 1648877/1648877 [00:00<00:00, 33925542.16it/s]\n"
          ]
        },
        {
          "output_type": "stream",
          "name": "stdout",
          "text": [
            "Extracting ./data/MNIST/raw/t10k-images-idx3-ubyte.gz to ./data/MNIST/raw\n",
            "\n",
            "Downloading http://yann.lecun.com/exdb/mnist/t10k-labels-idx1-ubyte.gz\n",
            "Downloading http://yann.lecun.com/exdb/mnist/t10k-labels-idx1-ubyte.gz to ./data/MNIST/raw/t10k-labels-idx1-ubyte.gz\n"
          ]
        },
        {
          "output_type": "stream",
          "name": "stderr",
          "text": [
            "100%|██████████| 4542/4542 [00:00<00:00, 9333919.04it/s]"
          ]
        },
        {
          "output_type": "stream",
          "name": "stdout",
          "text": [
            "Extracting ./data/MNIST/raw/t10k-labels-idx1-ubyte.gz to ./data/MNIST/raw\n",
            "\n"
          ]
        },
        {
          "output_type": "stream",
          "name": "stderr",
          "text": [
            "\n"
          ]
        }
      ],
      "source": [
        "mnist_trainset = datasets.MNIST(root='./data', train=True, download=True, transform=None)\n",
        "mnist_testset = datasets.MNIST(root='./data', train=False, download=True, transform=None)"
      ]
    },
    {
      "cell_type": "code",
      "execution_count": 6,
      "metadata": {
        "colab": {
          "base_uri": "https://localhost:8080/",
          "height": 0
        },
        "id": "kQ2ZEq7ATyIo",
        "outputId": "0b675c9d-bc04-48c3-9261-845bb4c5f21a"
      },
      "outputs": [
        {
          "output_type": "execute_result",
          "data": {
            "text/plain": [
              "(60000, 10000)"
            ]
          },
          "metadata": {},
          "execution_count": 6
        }
      ],
      "source": [
        "len(mnist_trainset), len(mnist_testset)"
      ]
    },
    {
      "cell_type": "code",
      "execution_count": 8,
      "metadata": {
        "colab": {
          "base_uri": "https://localhost:8080/",
          "height": 887
        },
        "id": "b7Tt8xE_T2GI",
        "outputId": "451bc9d1-58eb-4c57-f52c-5d4cc29a124d"
      },
      "outputs": [
        {
          "output_type": "display_data",
          "data": {
            "text/plain": [
              "<Figure size 640x480 with 1 Axes>"
            ],
            "image/png": "[encoded data removed]"
          },
          "metadata": {}
        },
        {
          "output_type": "display_data",
          "data": {
            "text/plain": [
              "<Figure size 640x480 with 1 Axes>"
            ],
            "image/png": "[encoded data removed]"
          },
          "metadata": {}
        }
      ],
      "source": [
        "for i in range(0,2):\n",
        "  image, label = mnist_trainset[i]\n",
        "  #print(label)\n",
        "  plt.imshow(image, cmap='gray')\n",
        "  plt.title(f\"Label: {label}\")\n",
        "  plt.show()"
      ]
    },
    {
      "cell_type": "markdown",
      "metadata": {
        "id": "4XFcrJC9R-dj"
      },
      "source": [
        "## Evaluation Metrics"
      ]
    },
    {
      "cell_type": "code",
      "execution_count": 9,
      "metadata": {
        "id": "O6LlpeVVKipf"
      },
      "outputs": [],
      "source": [
        "#Balanced Error Rate\n",
        "def ber(A,B):\n",
        "    TP = [(a==b and a==1) for a,b in zip(A,B)]\n",
        "    TP = sum(TP)\n",
        "    TN = [a==b and a==0 for a,b in zip(A,B)]\n",
        "    TN = sum(TN)\n",
        "    FP = [a!=b and b==1 for a,b in zip(A,B)]\n",
        "    FP = sum(FP)\n",
        "    FN = [a!=b and b==0 for a,b in zip(A,B)]\n",
        "    FN = sum(FN)\n",
        "    TPR = TP / (TP + FN)\n",
        "    TNR = TN / (TN + FP)\n",
        "    BER = 1 - (TPR+TNR)/2\n",
        "    return BER"
      ]
    },
    {
      "cell_type": "markdown",
      "metadata": {
        "id": "JFS405evRbeC"
      },
      "source": [
        "## Train-Test Split\n",
        "\n"
      ]
    },
    {
      "cell_type": "code",
      "execution_count": 10,
      "metadata": {
        "id": "-rN0Wbu_G2GL"
      },
      "outputs": [],
      "source": [
        "#Implementation of Baseline, K-Means, MCNN"
      ]
    },
    {
      "cell_type": "code",
      "execution_count": 11,
      "metadata": {
        "id": "Fnf0YG3CVFEE"
      },
      "outputs": [],
      "source": [
        "#Test-Train split\n",
        "X_train = mnist_trainset.data.numpy().reshape(-1, 28*28)\n",
        "y_train = mnist_trainset.targets.numpy()\n",
        "\n",
        "X_test = mnist_testset.data.numpy().reshape(-1, 28*28)\n",
        "y_test = mnist_testset.targets.numpy()"
      ]
    },
    {
      "cell_type": "code",
      "execution_count": 12,
      "metadata": {
        "id": "HhGXjHITYF-W"
      },
      "outputs": [],
      "source": [
        "#Dataframe to store metrics\n",
        "accuracy_df = pd.DataFrame(columns=[\"M\", \"Random\", \"k-means\", \"MCNN\"])\n",
        "ber_df = pd.DataFrame(columns=[\"M\", \"Random\", \"k-means\", \"MCNN\"])\n",
        "f1_df = pd.DataFrame(columns=[\"M\", \"Random\", \"k-means\", \"MCNN\"])\n",
        "time_df = pd.DataFrame(columns=[\"M\", \"Random\", \"k-means\", \"MCNN\"])"
      ]
    },
    {
      "cell_type": "markdown",
      "source": [
        "## Baseline - Random selection"
      ],
      "metadata": {
        "id": "ExDMme9ipbJm"
      }
    },
    {
      "cell_type": "code",
      "execution_count": 13,
      "metadata": {
        "id": "xSi1Vj4BGqQQ"
      },
      "outputs": [],
      "source": [
        "#Baseline Model\n",
        "def baseline_knn(X_train_resampled, y_train_resampled, X_test, y_test, k):\n",
        "  X_train_resampled, y_train_resampled = resample(X_train, y_train, n_samples=k, random_state=42)\n",
        "  knn_classifier_baseline = KNeighborsClassifier(n_neighbors=1)\n",
        "  knn_classifier_baseline.fit(X_train_resampled, y_train_resampled)\n",
        "\n",
        "  # Evaluate the model (Baseline)\n",
        "  y_pred_baseline = knn_classifier_baseline.predict(X_test)\n",
        "  accuracy_baseline = accuracy_score(y_test, y_pred_baseline)\n",
        "  ber_baseline = ber(y_test, y_pred_baseline)\n",
        "  f1_bs = f1_score(y_test, y_pred_baseline, average='weighted')\n",
        "  return accuracy_baseline, ber_baseline, f1_bs"
      ]
    },
    {
      "cell_type": "code",
      "execution_count": 14,
      "metadata": {
        "colab": {
          "base_uri": "https://localhost:8080/",
          "height": 0
        },
        "id": "GndqIBc8Gw5E",
        "outputId": "973e3752-147a-45bb-f8c9-4a680c9f3b33"
      },
      "outputs": [
        {
          "output_type": "stream",
          "name": "stdout",
          "text": [
            "K = 100\n",
            "BER: 0.22\n",
            "Accuracy: 0.69\n",
            "F1 Score: 0.67\n",
            "execution_time: 0.9810144901275635\n",
            "\n",
            "\n",
            "K = 1000\n",
            "BER: 0.11\n",
            "Accuracy: 0.87\n",
            "F1 Score: 0.87\n",
            "execution_time: 1.8537969589233398\n",
            "\n",
            "\n",
            "K = 5000\n",
            "BER: 0.06\n",
            "Accuracy: 0.93\n",
            "F1 Score: 0.93\n",
            "execution_time: 5.7748517990112305\n",
            "\n",
            "\n",
            "K = 10000\n",
            "BER: 0.05\n",
            "Accuracy: 0.95\n",
            "F1 Score: 0.95\n",
            "execution_time: 8.12675929069519\n",
            "\n",
            "\n"
          ]
        }
      ],
      "source": [
        "for k in [100, 1000, 5000, 10000]:\n",
        "  # Call the baseline function\n",
        "  start_time = time.time()\n",
        "  accuracy_bs, ber_baseline, f1_bs = baseline_knn(X_train, y_train, X_test, y_test, k)\n",
        "  end_time = time.time()\n",
        "  execution_time = end_time - start_time\n",
        "\n",
        "  accuracy_df = accuracy_df.append({\"M\": k, \"Random\": accuracy_bs}, ignore_index=True)\n",
        "  ber_df = ber_df.append({\"M\": k, \"Random\": ber_baseline}, ignore_index=True)\n",
        "  f1_df = f1_df.append({\"M\": k, \"Random\": f1_bs}, ignore_index=True)\n",
        "  time_df = time_df.append({\"M\": k, \"Random\": execution_time}, ignore_index=True)\n",
        "\n",
        "  #Display Baseline metric values for each k\n",
        "  print(\"K =\", k)\n",
        "  print(\"BER:\", round(ber_baseline, 2))\n",
        "  print(\"Accuracy:\", round(accuracy_bs, 2))\n",
        "  print(\"F1 Score:\", round(f1_bs, 2))\n",
        "  print(\"execution_time:\", execution_time)\n",
        "  print(\"\\n\")"
      ]
    },
    {
      "cell_type": "markdown",
      "source": [
        "## Modified Condensed Nearest Neighbor"
      ],
      "metadata": {
        "id": "AmTpVUx7peyf"
      }
    },
    {
      "cell_type": "code",
      "execution_count": 15,
      "metadata": {
        "id": "PkwihQlPBaP7"
      },
      "outputs": [],
      "source": [
        "#MCNN\n",
        "def modified_condensed_nearest_neighbor_3(X_train, y_train, k):\n",
        "    X_resampled = [X_train[0]]\n",
        "    y_resampled = [y_train[0]]\n",
        "\n",
        "    for i in range(1, len(X_train)):\n",
        "        x_i = X_train[i]\n",
        "        y_i = y_train[i]\n",
        "\n",
        "        # Check if the instance is misclassified by the current subset\n",
        "        knn_subset = KNeighborsClassifier(n_neighbors=1)\n",
        "        knn_subset.fit(X_resampled, y_resampled)\n",
        "        y_pred_i = knn_subset.predict([x_i])\n",
        "\n",
        "        if y_pred_i != y_i:\n",
        "            # Add the misclassified instance to the subset\n",
        "            X_resampled.append(x_i)\n",
        "            y_resampled.append(y_i)\n",
        "\n",
        "        # Check if the subset size has reached the desired k\n",
        "        if len(X_resampled) == k:\n",
        "            break\n",
        "\n",
        "    return np.array(X_resampled), np.array(y_resampled)"
      ]
    },
    {
      "cell_type": "code",
      "execution_count": 16,
      "metadata": {
        "id": "_3W17Z0YBd-b"
      },
      "outputs": [],
      "source": [
        "def mcnn_knn_3(X_train, y_train, X_test, y_test, k):\n",
        "    # Obtain the condensed subset using MCNN\n",
        "    X_train_resampled, y_train_resampled = modified_condensed_nearest_neighbor_3(X_train, y_train, k)\n",
        "\n",
        "    # Train the KNN classifier with the condensed subset\n",
        "    knn_classifier_mcnn = KNeighborsClassifier(n_neighbors=1)\n",
        "    knn_classifier_mcnn.fit(X_train_resampled, y_train_resampled)\n",
        "\n",
        "    # Evaluate the model (MCNN)\n",
        "    y_pred_mcnn = knn_classifier_mcnn.predict(X_test)\n",
        "    accuracy_mcnn = accuracy_score(y_test, y_pred_mcnn)\n",
        "    ber_mcnn = ber(y_test, y_pred_mcnn)\n",
        "    f1_mcnn = f1_score(y_test, y_pred_mcnn, average='weighted')\n",
        "\n",
        "    return accuracy_mcnn, ber_mcnn, f1_mcnn"
      ]
    },
    {
      "cell_type": "code",
      "execution_count": 17,
      "metadata": {
        "colab": {
          "base_uri": "https://localhost:8080/",
          "height": 0
        },
        "id": "XzDKVvGFBhea",
        "outputId": "d32ed480-9454-46b2-a2a1-d66eef5ef3b6"
      },
      "outputs": [
        {
          "output_type": "stream",
          "name": "stdout",
          "text": [
            "K = 100\n",
            "BER:  0.16\n",
            "Accuracy:  0.76\n",
            "F1-Score:  0.75\n",
            "execution_time: 5.232117414474487\n",
            "\n",
            "\n",
            "K = 1000\n",
            "BER:  0.07\n",
            "Accuracy:  0.88\n",
            "F1-Score:  0.88\n",
            "execution_time: 63.06704545021057\n",
            "\n",
            "\n",
            "K = 5000\n",
            "BER:  0.04\n",
            "Accuracy:  0.93\n",
            "F1-Score:  0.93\n",
            "execution_time: 1344.7105667591095\n",
            "\n",
            "\n",
            "K = 10000\n",
            "BER:  0.04\n",
            "Accuracy:  0.93\n",
            "F1-Score:  0.93\n",
            "execution_time: 1261.3294982910156\n",
            "\n",
            "\n"
          ]
        }
      ],
      "source": [
        "for k in [100, 1000, 5000, 10000]:\n",
        "  start_time = time.time()\n",
        "  accuracy_mcnn, ber_mcnn, f1_mcnn = mcnn_knn_3(X_train, y_train, X_test, y_test, k)\n",
        "  end_time = time.time()\n",
        "  execution_time = end_time - start_time\n",
        "\n",
        "  accuracy_df = accuracy_df.append({\"M\": k, \"MCNN\": accuracy_mcnn}, ignore_index=True)\n",
        "  ber_df = ber_df.append({\"M\": k, \"MCNN\": ber_mcnn}, ignore_index=True)\n",
        "  f1_df = f1_df.append({\"M\": k, \"MCNN\": f1_mcnn}, ignore_index=True)\n",
        "  time_df = time_df.append({\"M\": k, \"MCNN\": execution_time}, ignore_index=True)\n",
        "\n",
        "  #Display Metric Value\n",
        "  print(\"K =\", k)\n",
        "  print(\"BER: \", round(ber_mcnn, 2))\n",
        "  print(\"Accuracy: \", round(accuracy_mcnn, 2))\n",
        "  print(\"F1-Score: \", round(f1_mcnn, 2))\n",
        "  print(\"execution_time:\", execution_time)\n",
        "  print(\"\\n\")"
      ]
    },
    {
      "cell_type": "markdown",
      "source": [
        "## K-Means Clustering"
      ],
      "metadata": {
        "id": "17EPHylHpmN3"
      }
    },
    {
      "cell_type": "code",
      "source": [
        "#K-Means\n",
        "def kmeans_nn (X_train, y_train, M):\n",
        "  #prototypes holds the indexes of the training set that will be used as prototypes\n",
        "  prototype = []\n",
        "  classes = len(np.unique(y_train))\n",
        "  num_clusters = int(M/classes)\n",
        "  x_index = [ [] for _ in range(classes) ]\n",
        "  for i in range(len(y_train)):\n",
        "    x_index[y_train[i]].append(i)\n",
        "  iter = 0\n",
        "  for x in x_index:\n",
        "    cc = KMeans(n_clusters = num_clusters).fit(X_train[x]).cluster_centers_\n",
        "    pt, _ = pairwise_distances_argmin_min(cc,X_train)\n",
        "    prototype.append(pt)\n",
        "  prototype = np.concatenate(prototype).ravel()\n",
        "  return X_train[prototype], y_train[prototype]"
      ],
      "metadata": {
        "id": "ifDZ0uANS43z"
      },
      "execution_count": 18,
      "outputs": []
    },
    {
      "cell_type": "code",
      "source": [
        "def kmeans_knn(X_train, y_train, X_test, y_test, k):\n",
        "  # Obtain the prototype subset using K-means clustering\n",
        "  X_prototype, y_prototype = kmeans_nn(X_train, y_train, k)\n",
        "  #prototype = kmeans_nn(X_train, y_train, k)\n",
        "\n",
        "  # Train the KNN classifier with the prototype subset\n",
        "  knn_classifier_kmeans = KNeighborsClassifier(n_neighbors=1)\n",
        "  knn_classifier_kmeans.fit(X_prototype, y_prototype)\n",
        "\n",
        "  # Evaluate the model\n",
        "  y_pred_kmeans = knn_classifier_kmeans.predict(X_test)\n",
        "\n",
        "  # Calculate evaluation metrics\n",
        "  accuracy_km = accuracy_score(y_test, y_pred_kmeans)\n",
        "  ber_km = ber(y_test, y_pred_kmeans)\n",
        "  f1_km = f1_score(y_test, y_pred_kmeans, average='weighted')\n",
        "\n",
        "  return accuracy_km, ber_km, f1_km"
      ],
      "metadata": {
        "id": "ZV-AUeMHT5a3"
      },
      "execution_count": 19,
      "outputs": []
    },
    {
      "cell_type": "code",
      "source": [
        "for k in [100, 1000, 5000, 10000]:\n",
        "  start_time = time.time()\n",
        "  accuracy_km, ber_km, f1_km = kmeans_knn(X_train, y_train, X_test, y_test, k)\n",
        "  end_time = time.time()\n",
        "  execution_time = start_time - end_time\n",
        "\n",
        "  accuracy_df = accuracy_df.append({\"M\": k, \"k-means\": accuracy_km}, ignore_index=True)\n",
        "  ber_df = ber_df.append({\"M\": k, \"k-means\": ber_km}, ignore_index=True)\n",
        "  f1_df = f1_df.append({\"M\": k, \"k-means\": f1_km}, ignore_index=True)\n",
        "  time_df = time_df.append({\"M\": k, \"k-means\": execution_time}, ignore_index=True)\n",
        "\n",
        "  #Display Metric Value\n",
        "  print(\"K =\", k)\n",
        "  print(\"BER: \", round(ber_km, 2))\n",
        "  print(\"Accuracy: \", round(accuracy_km, 2))\n",
        "  print(\"F1-Score: \", round(f1_km, 2))\n",
        "  print(\"\\n\")"
      ],
      "metadata": {
        "colab": {
          "base_uri": "https://localhost:8080/",
          "height": 0
        },
        "id": "G3a_foaDUCZr",
        "outputId": "6baf5728-ad0c-40dc-d246-061bff32fbc5"
      },
      "execution_count": 20,
      "outputs": [
        {
          "output_type": "stream",
          "name": "stdout",
          "text": [
            "K = 100\n",
            "BER:  0.11\n",
            "Accuracy:  0.86\n",
            "F1-Score:  0.86\n",
            "\n",
            "\n",
            "K = 1000\n",
            "BER:  0.07\n",
            "Accuracy:  0.93\n",
            "F1-Score:  0.93\n",
            "\n",
            "\n",
            "K = 5000\n",
            "BER:  0.06\n",
            "Accuracy:  0.95\n",
            "F1-Score:  0.95\n",
            "\n",
            "\n",
            "K = 10000\n",
            "BER:  0.05\n",
            "Accuracy:  0.95\n",
            "F1-Score:  0.95\n",
            "\n",
            "\n"
          ]
        }
      ]
    },
    {
      "cell_type": "code",
      "source": [
        "accuracy_df = accuracy_df.groupby('M').agg({'Random': 'first', 'k-means': 'first', 'MCNN': 'first'}).reset_index()\n",
        "ber_df = ber_df.groupby('M').agg({'Random': 'first', 'k-means': 'first', 'MCNN': 'first'}).reset_index()\n",
        "f1_df = f1_df.groupby('M').agg({'Random': 'first', 'k-means': 'first', 'MCNN': 'first'}).reset_index()\n",
        "time_df = time_df.groupby('M').agg({'Random': 'first', 'k-means': 'first', 'MCNN': 'first'}).reset_index()"
      ],
      "metadata": {
        "id": "43FlR4bBS6DR"
      },
      "execution_count": 21,
      "outputs": []
    },
    {
      "cell_type": "code",
      "source": [
        "accuracy_df.to_csv(\"accuracy.csv\")\n",
        "ber_df.to_csv(\"ber.csv\")\n",
        "f1_df.to_csv(\"f1.csv\")\n",
        "time_df.to_csv(\"exec_time.csv\")"
      ],
      "metadata": {
        "id": "2d_ZK2WOS6Fq"
      },
      "execution_count": 23,
      "outputs": []
    },
    {
      "cell_type": "markdown",
      "source": [
        "## Visualization"
      ],
      "metadata": {
        "id": "WinaIa6QptDl"
      }
    },
    {
      "cell_type": "code",
      "source": [
        "plt.plot(accuracy_df['M'], accuracy_df['Random'], marker='o', label='Random')\n",
        "plt.plot(accuracy_df['M'], accuracy_df['k-means'], marker='x', label='K-Means')\n",
        "plt.plot(accuracy_df['M'], accuracy_df['MCNN'], marker='s' , label='MCNN')\n",
        "\n",
        "\n",
        "plt.xlabel('M - Number of samples')\n",
        "plt.ylabel('Accuracy')\n",
        "plt.title('Sample Size VS Accuracy')\n",
        "plt.legend()\n",
        "plt.grid(True)\n",
        "plt.show()"
      ],
      "metadata": {
        "colab": {
          "base_uri": "https://localhost:8080/",
          "height": 472
        },
        "id": "0YLR-cj8qoTh",
        "outputId": "8cc7d851-e5a7-458c-b9db-02b834d061d7"
      },
      "execution_count": 36,
      "outputs": [
        {
          "output_type": "display_data",
          "data": {
            "text/plain": [
              "<Figure size 640x480 with 1 Axes>"
            ],
            "image/png": "[encoded data removed]"
          },
          "metadata": {}
        }
      ]
    },
    {
      "cell_type": "code",
      "source": [
        "plt.plot(time_df['M'], time_df['Random'], marker='o', label='Random')\n",
        "plt.plot(time_df['M'], time_df['k-means'], marker='x', label='K-Means')\n",
        "plt.plot(time_df['M'], time_df['MCNN'], marker='s' , label='MCNN')\n",
        "\n",
        "plt.xlabel('M - Number of samples)')\n",
        "plt.ylabel('Time')\n",
        "plt.title('Sample size vs Time')\n",
        "plt.legend()\n",
        "plt.grid(True)\n",
        "plt.show()"
      ],
      "metadata": {
        "colab": {
          "base_uri": "https://localhost:8080/",
          "height": 472
        },
        "id": "W_L5lmfLrXDk",
        "outputId": "721ec288-499b-437c-a0e1-743ba484a894"
      },
      "execution_count": 32,
      "outputs": [
        {
          "output_type": "display_data",
          "data": {
            "text/plain": [
              "<Figure size 640x480 with 1 Axes>"
            ],
            "image/png": "[encoded data removed]"
          },
          "metadata": {}
        }
      ]
    },
    {
      "cell_type": "markdown",
      "source": [
        "# THE END :)"
      ],
      "metadata": {
        "id": "P2T2H-k1qRMR"
      }
    },
    {
      "cell_type": "code",
      "source": [],
      "metadata": {
        "id": "3W0mCZ91tckg"
      },
      "execution_count": null,
      "outputs": []
    }
  ],
  "metadata": {
    "accelerator": "TPU",
    "colab": {
      "provenance": []
    },
    "kernelspec": {
      "display_name": "Python 3",
      "name": "python3"
    },
    "language_info": {
      "name": "python"
    }
  },
  "nbformat": 4,
  "nbformat_minor": 0
}